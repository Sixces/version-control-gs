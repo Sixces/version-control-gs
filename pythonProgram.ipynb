name = input("Enter name here: ")
